{
  "nbformat": 4,
  "nbformat_minor": 0,
  "metadata": {
    "colab": {
      "name": "OC7.ipynb",
      "provenance": [],
      "collapsed_sections": [],
      "machine_shape": "hm"
    },
    "kernelspec": {
      "name": "python3",
      "display_name": "Python 3"
    },
    "accelerator": "GPU",
    "widgets": {
      "application/vnd.jupyter.widget-state+json": {
        "f776289430f640cbb9506e81e44e9458": {
          "model_module": "@jupyter-widgets/controls",
          "model_name": "HBoxModel",
          "state": {
            "_view_name": "HBoxView",
            "_dom_classes": [],
            "_model_name": "HBoxModel",
            "_view_module": "@jupyter-widgets/controls",
            "_model_module_version": "1.5.0",
            "_view_count": null,
            "_view_module_version": "1.5.0",
            "box_style": "",
            "layout": "IPY_MODEL_2d96c4458e0c42f48769a1645654452a",
            "_model_module": "@jupyter-widgets/controls",
            "children": [
              "IPY_MODEL_864e8a447e394777b2dcf2bb854775ca",
              "IPY_MODEL_ecb2239dfd4845c3a9cf038e3e4523c3"
            ]
          }
        },
        "2d96c4458e0c42f48769a1645654452a": {
          "model_module": "@jupyter-widgets/base",
          "model_name": "LayoutModel",
          "state": {
            "_view_name": "LayoutView",
            "grid_template_rows": null,
            "right": null,
            "justify_content": null,
            "_view_module": "@jupyter-widgets/base",
            "overflow": null,
            "_model_module_version": "1.2.0",
            "_view_count": null,
            "flex_flow": null,
            "width": null,
            "min_width": null,
            "border": null,
            "align_items": null,
            "bottom": null,
            "_model_module": "@jupyter-widgets/base",
            "top": null,
            "grid_column": null,
            "overflow_y": null,
            "overflow_x": null,
            "grid_auto_flow": null,
            "grid_area": null,
            "grid_template_columns": null,
            "flex": null,
            "_model_name": "LayoutModel",
            "justify_items": null,
            "grid_row": null,
            "max_height": null,
            "align_content": null,
            "visibility": null,
            "align_self": null,
            "height": null,
            "min_height": null,
            "padding": null,
            "grid_auto_rows": null,
            "grid_gap": null,
            "max_width": null,
            "order": null,
            "_view_module_version": "1.2.0",
            "grid_template_areas": null,
            "object_position": null,
            "object_fit": null,
            "grid_auto_columns": null,
            "margin": null,
            "display": null,
            "left": null
          }
        },
        "864e8a447e394777b2dcf2bb854775ca": {
          "model_module": "@jupyter-widgets/controls",
          "model_name": "FloatProgressModel",
          "state": {
            "_view_name": "ProgressView",
            "style": "IPY_MODEL_d5f0f0be47b048a9a11549fcdb83a135",
            "_dom_classes": [],
            "description": "100%",
            "_model_name": "FloatProgressModel",
            "bar_style": "success",
            "max": 3317136976,
            "_view_module": "@jupyter-widgets/controls",
            "_model_module_version": "1.5.0",
            "value": 3317136976,
            "_view_count": null,
            "_view_module_version": "1.5.0",
            "orientation": "horizontal",
            "min": 0,
            "description_tooltip": null,
            "_model_module": "@jupyter-widgets/controls",
            "layout": "IPY_MODEL_a06d7df8479346fc9efc18375f756eaf"
          }
        },
        "ecb2239dfd4845c3a9cf038e3e4523c3": {
          "model_module": "@jupyter-widgets/controls",
          "model_name": "HTMLModel",
          "state": {
            "_view_name": "HTMLView",
            "style": "IPY_MODEL_9d8283be3139436ca80c913207d23c2a",
            "_dom_classes": [],
            "description": "",
            "_model_name": "HTMLModel",
            "placeholder": "​",
            "_view_module": "@jupyter-widgets/controls",
            "_model_module_version": "1.5.0",
            "value": " 3.09G/3.09G [02:11&lt;00:00, 25.1MB/s]",
            "_view_count": null,
            "_view_module_version": "1.5.0",
            "description_tooltip": null,
            "_model_module": "@jupyter-widgets/controls",
            "layout": "IPY_MODEL_da58c29bf3ca4704b09abc72858e0971"
          }
        },
        "d5f0f0be47b048a9a11549fcdb83a135": {
          "model_module": "@jupyter-widgets/controls",
          "model_name": "ProgressStyleModel",
          "state": {
            "_view_name": "StyleView",
            "_model_name": "ProgressStyleModel",
            "description_width": "initial",
            "_view_module": "@jupyter-widgets/base",
            "_model_module_version": "1.5.0",
            "_view_count": null,
            "_view_module_version": "1.2.0",
            "bar_color": null,
            "_model_module": "@jupyter-widgets/controls"
          }
        },
        "a06d7df8479346fc9efc18375f756eaf": {
          "model_module": "@jupyter-widgets/base",
          "model_name": "LayoutModel",
          "state": {
            "_view_name": "LayoutView",
            "grid_template_rows": null,
            "right": null,
            "justify_content": null,
            "_view_module": "@jupyter-widgets/base",
            "overflow": null,
            "_model_module_version": "1.2.0",
            "_view_count": null,
            "flex_flow": null,
            "width": null,
            "min_width": null,
            "border": null,
            "align_items": null,
            "bottom": null,
            "_model_module": "@jupyter-widgets/base",
            "top": null,
            "grid_column": null,
            "overflow_y": null,
            "overflow_x": null,
            "grid_auto_flow": null,
            "grid_area": null,
            "grid_template_columns": null,
            "flex": null,
            "_model_name": "LayoutModel",
            "justify_items": null,
            "grid_row": null,
            "max_height": null,
            "align_content": null,
            "visibility": null,
            "align_self": null,
            "height": null,
            "min_height": null,
            "padding": null,
            "grid_auto_rows": null,
            "grid_gap": null,
            "max_width": null,
            "order": null,
            "_view_module_version": "1.2.0",
            "grid_template_areas": null,
            "object_position": null,
            "object_fit": null,
            "grid_auto_columns": null,
            "margin": null,
            "display": null,
            "left": null
          }
        },
        "9d8283be3139436ca80c913207d23c2a": {
          "model_module": "@jupyter-widgets/controls",
          "model_name": "DescriptionStyleModel",
          "state": {
            "_view_name": "StyleView",
            "_model_name": "DescriptionStyleModel",
            "description_width": "",
            "_view_module": "@jupyter-widgets/base",
            "_model_module_version": "1.5.0",
            "_view_count": null,
            "_view_module_version": "1.2.0",
            "_model_module": "@jupyter-widgets/controls"
          }
        },
        "da58c29bf3ca4704b09abc72858e0971": {
          "model_module": "@jupyter-widgets/base",
          "model_name": "LayoutModel",
          "state": {
            "_view_name": "LayoutView",
            "grid_template_rows": null,
            "right": null,
            "justify_content": null,
            "_view_module": "@jupyter-widgets/base",
            "overflow": null,
            "_model_module_version": "1.2.0",
            "_view_count": null,
            "flex_flow": null,
            "width": null,
            "min_width": null,
            "border": null,
            "align_items": null,
            "bottom": null,
            "_model_module": "@jupyter-widgets/base",
            "top": null,
            "grid_column": null,
            "overflow_y": null,
            "overflow_x": null,
            "grid_auto_flow": null,
            "grid_area": null,
            "grid_template_columns": null,
            "flex": null,
            "_model_name": "LayoutModel",
            "justify_items": null,
            "grid_row": null,
            "max_height": null,
            "align_content": null,
            "visibility": null,
            "align_self": null,
            "height": null,
            "min_height": null,
            "padding": null,
            "grid_auto_rows": null,
            "grid_gap": null,
            "max_width": null,
            "order": null,
            "_view_module_version": "1.2.0",
            "grid_template_areas": null,
            "object_position": null,
            "object_fit": null,
            "grid_auto_columns": null,
            "margin": null,
            "display": null,
            "left": null
          }
        }
      }
    }
  },
  "cells": [
    {
      "cell_type": "code",
      "metadata": {
        "id": "-MiIK2q4Cyoi",
        "colab_type": "code",
        "colab": {
          "base_uri": "https://localhost:8080/",
          "height": 143
        },
        "outputId": "aa3dbca0-b508-4ce9-c0d1-8c197fcf7d50"
      },
      "source": [
        "!git clone https://github.com/facebookresearch/FixRes"
      ],
      "execution_count": 1,
      "outputs": [
        {
          "output_type": "stream",
          "text": [
            "Cloning into 'FixRes'...\n",
            "remote: Enumerating objects: 48, done.\u001b[K\n",
            "remote: Counting objects: 100% (48/48), done.\u001b[K\n",
            "remote: Compressing objects: 100% (48/48), done.\u001b[K\n",
            "remote: Total 126 (delta 25), reused 0 (delta 0), pack-reused 78\u001b[K\n",
            "Receiving objects: 100% (126/126), 1.42 MiB | 1.57 MiB/s, done.\n",
            "Resolving deltas: 100% (62/62), done.\n"
          ],
          "name": "stdout"
        }
      ]
    },
    {
      "cell_type": "code",
      "metadata": {
        "id": "8TAFP95T_wZV",
        "colab_type": "code",
        "colab": {}
      },
      "source": [
        "import time\n",
        "import copy\n",
        "import numpy as np\n",
        "import matplotlib.pyplot as plt\n",
        "\n",
        "import torch\n",
        "import torch.nn as nn\n",
        "import torch.optim as optim\n",
        "from torch.utils.data import DataLoader\n",
        "from torchvision import transforms, datasets"
      ],
      "execution_count": 0,
      "outputs": []
    },
    {
      "cell_type": "code",
      "metadata": {
        "id": "lP6DkC3QR8HM",
        "colab_type": "code",
        "colab": {}
      },
      "source": [
        "from FixRes.transforms_v2 import get_transforms  # Implement FixRes method for fine-tuning"
      ],
      "execution_count": 0,
      "outputs": []
    },
    {
      "cell_type": "code",
      "metadata": {
        "id": "MF2f6h-sH-SQ",
        "colab_type": "code",
        "outputId": "a38d0f4f-2166-42fc-f4bf-14ba58a2a83a",
        "colab": {
          "base_uri": "https://localhost:8080/",
          "height": 35
        }
      },
      "source": [
        "torch.__version__"
      ],
      "execution_count": 4,
      "outputs": [
        {
          "output_type": "execute_result",
          "data": {
            "text/plain": [
              "'1.5.0+cu101'"
            ]
          },
          "metadata": {
            "tags": []
          },
          "execution_count": 4
        }
      ]
    },
    {
      "cell_type": "code",
      "metadata": {
        "id": "r2BXvS_Qz9-e",
        "colab_type": "code",
        "colab": {}
      },
      "source": [
        "root_model = 'drive/My Drive/Colab Notebooks/P7/model/'"
      ],
      "execution_count": 0,
      "outputs": []
    },
    {
      "cell_type": "code",
      "metadata": {
        "id": "qu2xhismiWqm",
        "colab_type": "code",
        "colab": {}
      },
      "source": [
        "dir_train = 'drive/My Drive/Colab Notebooks/P7/data/train'"
      ],
      "execution_count": 0,
      "outputs": []
    },
    {
      "cell_type": "code",
      "metadata": {
        "id": "BBoZCKGhiWzi",
        "colab_type": "code",
        "colab": {}
      },
      "source": [
        "dir_valid = 'drive/My Drive/Colab Notebooks/P7/data/valid'"
      ],
      "execution_count": 0,
      "outputs": []
    },
    {
      "cell_type": "code",
      "metadata": {
        "id": "GshjMbAGiWwG",
        "colab_type": "code",
        "colab": {}
      },
      "source": [
        "dir_test = 'drive/My Drive/Colab Notebooks/P7/data/test'"
      ],
      "execution_count": 0,
      "outputs": []
    },
    {
      "cell_type": "markdown",
      "metadata": {
        "id": "_3MUWBBLsmMt",
        "colab_type": "text"
      },
      "source": [
        "#FixRes method for image preprocessing\n"
      ]
    },
    {
      "cell_type": "code",
      "metadata": {
        "id": "JtJ1rPYpNslm",
        "colab_type": "code",
        "colab": {}
      },
      "source": [
        "fixRes_image_transforms = get_transforms(input_size=320,test_size=224, kind='full', crop=True, need=('train', 'val'), backbone=None)"
      ],
      "execution_count": 0,
      "outputs": []
    },
    {
      "cell_type": "markdown",
      "metadata": {
        "id": "QDQL1wH7UG2N",
        "colab_type": "text"
      },
      "source": [
        "#Data Loader"
      ]
    },
    {
      "cell_type": "markdown",
      "metadata": {
        "id": "hcQuHelrt63e",
        "colab_type": "text"
      },
      "source": [
        "```\n",
        "Data loader Stanford Dog\n",
        "```"
      ]
    },
    {
      "cell_type": "code",
      "metadata": {
        "id": "dvoqCndU1WSN",
        "colab_type": "code",
        "colab": {}
      },
      "source": [
        "batch_size = 32"
      ],
      "execution_count": 0,
      "outputs": []
    },
    {
      "cell_type": "code",
      "metadata": {
        "id": "AnJqwwaST_un",
        "colab_type": "code",
        "colab": {}
      },
      "source": [
        "data_images = {\n",
        "    'train': datasets.ImageFolder(root=dir_train, transform=fixRes_image_transforms['train']),\n",
        "    'valid': datasets.ImageFolder(root=dir_valid, transform=fixRes_image_transforms['val_test']),\n",
        "    'test': datasets.ImageFolder(root=dir_test, transform=fixRes_image_transforms['val_test'])\n",
        "}"
      ],
      "execution_count": 0,
      "outputs": []
    },
    {
      "cell_type": "code",
      "metadata": {
        "id": "-pdV4aiuUUns",
        "colab_type": "code",
        "colab": {}
      },
      "source": [
        "dataloaders = {\n",
        "    'train': DataLoader(data_images['train'], batch_size=batch_size, shuffle=True),\n",
        "    'valid': DataLoader(data_images['valid'], batch_size=batch_size, shuffle=True),\n",
        "    'test': DataLoader(data_images['test'], batch_size=batch_size, shuffle=True)\n",
        "}"
      ],
      "execution_count": 0,
      "outputs": []
    },
    {
      "cell_type": "code",
      "metadata": {
        "id": "K197NWuFurBR",
        "colab_type": "code",
        "colab": {}
      },
      "source": [
        "dataset_sizes = {x: len(data_images[x]) for x in ['train', 'valid', 'test']}"
      ],
      "execution_count": 0,
      "outputs": []
    },
    {
      "cell_type": "code",
      "metadata": {
        "id": "ez3YU1fju9Le",
        "colab_type": "code",
        "outputId": "432f941c-ecb1-40ae-e925-753c7adb6358",
        "colab": {
          "base_uri": "https://localhost:8080/",
          "height": 35
        }
      },
      "source": [
        "dataset_sizes"
      ],
      "execution_count": 14,
      "outputs": [
        {
          "output_type": "execute_result",
          "data": {
            "text/plain": [
              "{'test': 4140, 'train': 12240, 'valid': 4200}"
            ]
          },
          "metadata": {
            "tags": []
          },
          "execution_count": 14
        }
      ]
    },
    {
      "cell_type": "code",
      "metadata": {
        "id": "KV90onuAvdvX",
        "colab_type": "code",
        "colab": {}
      },
      "source": [
        "class_names = data_images['train'].classes"
      ],
      "execution_count": 0,
      "outputs": []
    },
    {
      "cell_type": "code",
      "metadata": {
        "id": "5-hgh9qJvmNR",
        "colab_type": "code",
        "outputId": "1f4a3860-b2d6-4129-ccef-13b65a60907b",
        "colab": {
          "base_uri": "https://localhost:8080/",
          "height": 35
        }
      },
      "source": [
        "class_names[:3]"
      ],
      "execution_count": 16,
      "outputs": [
        {
          "output_type": "execute_result",
          "data": {
            "text/plain": [
              "['Afghan_hound', 'African_hunting_dog', 'Airedale']"
            ]
          },
          "metadata": {
            "tags": []
          },
          "execution_count": 16
        }
      ]
    },
    {
      "cell_type": "markdown",
      "metadata": {
        "id": "IfLesmn2n9Eh",
        "colab_type": "text"
      },
      "source": [
        "#ResNext as fixed feature extractor"
      ]
    },
    {
      "cell_type": "code",
      "metadata": {
        "id": "y1uN5bdZTcJm",
        "colab_type": "code",
        "outputId": "a45519bc-753c-41d5-d099-dd737458c8f5",
        "colab": {
          "base_uri": "https://localhost:8080/",
          "height": 103,
          "referenced_widgets": [
            "f776289430f640cbb9506e81e44e9458",
            "2d96c4458e0c42f48769a1645654452a",
            "864e8a447e394777b2dcf2bb854775ca",
            "ecb2239dfd4845c3a9cf038e3e4523c3",
            "d5f0f0be47b048a9a11549fcdb83a135",
            "a06d7df8479346fc9efc18375f756eaf",
            "9d8283be3139436ca80c913207d23c2a",
            "da58c29bf3ca4704b09abc72858e0971"
          ]
        }
      },
      "source": [
        "# Load resnext model\n",
        "fixRes_model = torch.hub.load('facebookresearch/WSL-Images', 'resnext101_32x48d_wsl')"
      ],
      "execution_count": 17,
      "outputs": [
        {
          "output_type": "stream",
          "text": [
            "Downloading: \"https://github.com/facebookresearch/WSL-Images/archive/master.zip\" to /root/.cache/torch/hub/master.zip\n",
            "Downloading: \"https://download.pytorch.org/models/ig_resnext101_32x48-3e41cc8a.pth\" to /root/.cache/torch/hub/checkpoints/ig_resnext101_32x48-3e41cc8a.pth\n"
          ],
          "name": "stderr"
        },
        {
          "output_type": "display_data",
          "data": {
            "application/vnd.jupyter.widget-view+json": {
              "model_id": "f776289430f640cbb9506e81e44e9458",
              "version_minor": 0,
              "version_major": 2
            },
            "text/plain": [
              "HBox(children=(FloatProgress(value=0.0, max=3317136976.0), HTML(value='')))"
            ]
          },
          "metadata": {
            "tags": []
          }
        },
        {
          "output_type": "stream",
          "text": [
            "\n"
          ],
          "name": "stdout"
        }
      ]
    },
    {
      "cell_type": "code",
      "metadata": {
        "id": "JHHcc73Cu3ND",
        "colab_type": "code",
        "colab": {}
      },
      "source": [
        "# Freeze model weights\n",
        "for param in fixRes_model.parameters():\n",
        "    param.requires_grad = False"
      ],
      "execution_count": 0,
      "outputs": []
    },
    {
      "cell_type": "code",
      "metadata": {
        "id": "O15gk3XMu30O",
        "colab_type": "code",
        "colab": {}
      },
      "source": [
        "num_ftrs = fixRes_model.fc.in_features"
      ],
      "execution_count": 0,
      "outputs": []
    },
    {
      "cell_type": "code",
      "metadata": {
        "id": "AY1diOHDwMSv",
        "colab_type": "code",
        "colab": {}
      },
      "source": [
        "fixRes_model.fc = nn.Linear(num_ftrs, 120)"
      ],
      "execution_count": 0,
      "outputs": []
    },
    {
      "cell_type": "code",
      "metadata": {
        "id": "_YGdZjhUOUCl",
        "colab_type": "code",
        "outputId": "3630c8ed-fb38-4a1c-cddb-84ab5f72b9e7",
        "colab": {
          "base_uri": "https://localhost:8080/",
          "height": 53
        }
      },
      "source": [
        "# Find total parameters and trainable parameters\n",
        "total_params = sum(p.numel() for p in fixRes_model.parameters())\n",
        "print(f'{total_params:,} total parameters.')\n",
        "total_trainable_params = sum(p.numel() for p in fixRes_model.parameters() if p.requires_grad)\n",
        "print(f'{total_trainable_params:,} training parameters.')"
      ],
      "execution_count": 21,
      "outputs": [
        {
          "output_type": "stream",
          "text": [
            "826,608,056 total parameters.\n",
            "245,880 training parameters.\n"
          ],
          "name": "stdout"
        }
      ]
    },
    {
      "cell_type": "markdown",
      "metadata": {
        "id": "UbMz_vIrxSLv",
        "colab_type": "text"
      },
      "source": [
        "```\n",
        "Move to gpu if available\n",
        "```"
      ]
    },
    {
      "cell_type": "code",
      "metadata": {
        "id": "rqcGWNGKxaMo",
        "colab_type": "code",
        "colab": {}
      },
      "source": [
        "device = torch.device(\"cuda:0\" if torch.cuda.is_available() else \"cpu\")\n",
        "fixRes_model = fixRes_model.to(device)"
      ],
      "execution_count": 0,
      "outputs": []
    },
    {
      "cell_type": "code",
      "metadata": {
        "id": "n5h52OBV3jhA",
        "colab_type": "code",
        "outputId": "b8c1bfe2-a3b0-4709-c578-46598d7acdaf",
        "colab": {
          "base_uri": "https://localhost:8080/",
          "height": 35
        }
      },
      "source": [
        "device"
      ],
      "execution_count": 23,
      "outputs": [
        {
          "output_type": "execute_result",
          "data": {
            "text/plain": [
              "device(type='cuda', index=0)"
            ]
          },
          "metadata": {
            "tags": []
          },
          "execution_count": 23
        }
      ]
    },
    {
      "cell_type": "markdown",
      "metadata": {
        "id": "A5HHgb3jx4aW",
        "colab_type": "text"
      },
      "source": [
        "```\n",
        "Training Loss and Optimizer\n",
        "```"
      ]
    },
    {
      "cell_type": "code",
      "metadata": {
        "id": "5P62_HH6wMWz",
        "colab_type": "code",
        "colab": {}
      },
      "source": [
        "criterion = nn.CrossEntropyLoss()"
      ],
      "execution_count": 0,
      "outputs": []
    },
    {
      "cell_type": "code",
      "metadata": {
        "id": "-V8Gjj9DwoGo",
        "colab_type": "code",
        "colab": {}
      },
      "source": [
        "optimizer = optim.Adam(fixRes_model.parameters())"
      ],
      "execution_count": 0,
      "outputs": []
    },
    {
      "cell_type": "markdown",
      "metadata": {
        "id": "5nagC99WzXYo",
        "colab_type": "text"
      },
      "source": [
        "#Training"
      ]
    },
    {
      "cell_type": "code",
      "metadata": {
        "id": "ZkCh6LOgwoKJ",
        "colab_type": "code",
        "colab": {}
      },
      "source": [
        "def train_model(model, criterion, optimizer, num_epochs=30):\n",
        "\n",
        "    since = time.time()\n",
        "\n",
        "    global history\n",
        "    history = {'train':{'val_accuracy':[], 'val_loss':[]}, 'valid':{'val_accuracy':[], 'val_loss':[]}}\n",
        "\n",
        "    # Weights model\n",
        "    best_acc = 0.0\n",
        "    best_model = copy.deepcopy(model.state_dict())\n",
        "\n",
        "    # Early stopping details\n",
        "    n_epochs_stop = 5\n",
        "    min_val_loss = np.Inf\n",
        "    epochs_no_improve = 0\n",
        "\n",
        "    for epoch in range(num_epochs):\n",
        "        print('Epoch {}/{}'.format(epoch + 1, num_epochs))\n",
        "        print('-' * 10)\n",
        "        # Each epoch has a training and validation phase\n",
        "        for phase in ['train', 'valid']:\n",
        "            if phase == 'train':\n",
        "                model.train()  # Set model to training mode\n",
        "            else:\n",
        "                model.eval()\n",
        "\n",
        "            running_loss = 0.0\n",
        "            running_corrects = 0\n",
        "            i = 0\n",
        "            print('{} :'.format(phase), end=\" \")\n",
        "            for inputs, labels in dataloaders[phase]:\n",
        "                inputs = inputs.to(device)\n",
        "                labels = labels.to(device)\n",
        "\n",
        "                # zero the parameter gradients\n",
        "                optimizer.zero_grad()\n",
        "\n",
        "                # forward\n",
        "                # track history if only in train\n",
        "                with torch.set_grad_enabled(phase == 'train'):\n",
        "                    outputs = model(inputs)\n",
        "                    _, preds = torch.max(outputs, 1)\n",
        "                    loss = criterion(outputs, labels)\n",
        "\n",
        "                    # backward + optimize only if in training phase\n",
        "                    if phase == 'train':\n",
        "                        loss.backward()\n",
        "                        optimizer.step()\n",
        "\n",
        "                # statistics\n",
        "                running_loss += loss.item() * inputs.size(0)\n",
        "                running_corrects += torch.sum(preds == labels.data)\n",
        "                # display evolving\n",
        "                if(not i % 50):\n",
        "                    print(\"{}%\".format((i*100//(dataset_sizes[phase]//batch_size))), end=\" => \")\n",
        "                i += 1\n",
        "\n",
        "            epoch_loss = running_loss / dataset_sizes[phase]\n",
        "            epoch_acc = running_corrects.double() / dataset_sizes[phase]\n",
        "            history[phase]['val_loss'].append(epoch_loss)\n",
        "            history[phase]['val_accuracy'].append(epoch_acc)\n",
        "            print(\"100%\")\n",
        "            print('{} Loss: {:.4f} Acc: {:.4f}'.format(phase, epoch_loss, epoch_acc))\n",
        "\n",
        "            # deep copy the model\n",
        "            if phase == 'valid' and epoch_acc > best_acc:\n",
        "                best_acc = epoch_acc\n",
        "                best_model = copy.deepcopy(model.state_dict())\n",
        "            if phase == 'valid':\n",
        "                if epoch_loss < min_val_loss:\n",
        "                    epochs_no_improve = 0\n",
        "                    min_val_loss = epoch_loss\n",
        "                else:\n",
        "                    epochs_no_improve += 1\n",
        "                    if epochs_no_improve == n_epochs_stop:\n",
        "                        time_elapsed = time.time() - since\n",
        "                        print()\n",
        "                        print('Early stopping!')\n",
        "                        print('Training complete in {:.0f}m {:.0f}s'.format(time_elapsed // 60, time_elapsed % 60))\n",
        "                        print('Best val Acc: {:4f}'.format(best_acc))\n",
        "                        model.load_state_dict(best_model)\n",
        "                        return model\n",
        "                print(\"Valeur de perte minimale : {:.4f}\".format(min_val_loss), end=\"; \")\n",
        "                print(\"Nombre epochs non amélioré : {}\".format(epochs_no_improve))\n",
        "        print()\n",
        "    time_elapsed = time.time() - since\n",
        "    print('Training complete in {:.0f}m {:.0f}s'.format(time_elapsed // 60, time_elapsed % 60))\n",
        "    print('Best val Acc: {:4f}'.format(best_acc))\n",
        "\n",
        "    # load best model weights\n",
        "    model.load_state_dict(best_model)\n",
        "    return model"
      ],
      "execution_count": 0,
      "outputs": []
    },
    {
      "cell_type": "code",
      "metadata": {
        "id": "bWeFPgHSf5ur",
        "colab_type": "code",
        "outputId": "4f601fcb-7384-4198-e8ac-af31689c4150",
        "colab": {
          "base_uri": "https://localhost:8080/",
          "height": 1000
        }
      },
      "source": [
        "fixRes_model = train_model(fixRes_model, criterion, optimizer, num_epochs=30)"
      ],
      "execution_count": 27,
      "outputs": [
        {
          "output_type": "stream",
          "text": [
            "Epoch 1/30\n",
            "----------\n",
            "train : 0% => 13% => 26% => 39% => 52% => 65% => 78% => 91% => 100%\n",
            "train Loss: 1.3776 Acc: 0.7016\n",
            "valid : 0% => 38% => 76% => 100%\n",
            "valid Loss: 0.3538 Acc: 0.9190\n",
            "Valeur de perte minimale : 0.3538; Nombre epochs non amélioré : 0\n",
            "\n",
            "Epoch 2/30\n",
            "----------\n",
            "train : 0% => 13% => 26% => 39% => 52% => 65% => 78% => 91% => 100%\n",
            "train Loss: 0.8354 Acc: 0.7993\n",
            "valid : 0% => 38% => 76% => 100%\n",
            "valid Loss: 0.3248 Acc: 0.9271\n",
            "Valeur de perte minimale : 0.3248; Nombre epochs non amélioré : 0\n",
            "\n",
            "Epoch 3/30\n",
            "----------\n",
            "train : 0% => 13% => 26% => 39% => 52% => 65% => 78% => 91% => 100%\n",
            "train Loss: 0.8409 Acc: 0.8105\n",
            "valid : 0% => 38% => 76% => 100%\n",
            "valid Loss: 0.3177 Acc: 0.9407\n",
            "Valeur de perte minimale : 0.3177; Nombre epochs non amélioré : 0\n",
            "\n",
            "Epoch 4/30\n",
            "----------\n",
            "train : 0% => 13% => 26% => 39% => 52% => 65% => 78% => 91% => 100%\n",
            "train Loss: 0.8790 Acc: 0.8068\n",
            "valid : 0% => 38% => 76% => 100%\n",
            "valid Loss: 0.3381 Acc: 0.9336\n",
            "Valeur de perte minimale : 0.3177; Nombre epochs non amélioré : 1\n",
            "\n",
            "Epoch 5/30\n",
            "----------\n",
            "train : 0% => 13% => 26% => 39% => 52% => 65% => 78% => 91% => 100%\n",
            "train Loss: 0.7823 Acc: 0.8261\n",
            "valid : 0% => 38% => 76% => 100%\n",
            "valid Loss: 0.3380 Acc: 0.9340\n",
            "Valeur de perte minimale : 0.3177; Nombre epochs non amélioré : 2\n",
            "\n",
            "Epoch 6/30\n",
            "----------\n",
            "train : 0% => 13% => 26% => 39% => 52% => 65% => 78% => 91% => 100%\n",
            "train Loss: 0.8061 Acc: 0.8230\n",
            "valid : 0% => 38% => 76% => 100%\n",
            "valid Loss: 0.3516 Acc: 0.9386\n",
            "Valeur de perte minimale : 0.3177; Nombre epochs non amélioré : 3\n",
            "\n",
            "Epoch 7/30\n",
            "----------\n",
            "train : 0% => 13% => 26% => 39% => 52% => 65% => 78% => 91% => 100%\n",
            "train Loss: 0.8011 Acc: 0.8297\n",
            "valid : 0% => 38% => 76% => 100%\n",
            "valid Loss: 0.3929 Acc: 0.9345\n",
            "Valeur de perte minimale : 0.3177; Nombre epochs non amélioré : 4\n",
            "\n",
            "Epoch 8/30\n",
            "----------\n",
            "train : 0% => 13% => 26% => 39% => 52% => 65% => 78% => 91% => 100%\n",
            "train Loss: 0.8176 Acc: 0.8324\n",
            "valid : 0% => 38% => 76% => 100%\n",
            "valid Loss: 0.3819 Acc: 0.9424\n",
            "\n",
            "Early stopping!\n",
            "Training complete in 356m 18s\n",
            "Best val Acc: 0.942381\n"
          ],
          "name": "stdout"
        }
      ]
    },
    {
      "cell_type": "code",
      "metadata": {
        "id": "oBkmCj5Nnw6G",
        "colab_type": "code",
        "colab": {}
      },
      "source": [
        "torch.save(fixRes_model.state_dict(), root_model + \"model\")"
      ],
      "execution_count": 0,
      "outputs": []
    },
    {
      "cell_type": "code",
      "metadata": {
        "id": "XpZXVwxe8Vc9",
        "colab_type": "code",
        "colab": {
          "base_uri": "https://localhost:8080/",
          "height": 441
        },
        "outputId": "1c1bee23-44a6-492a-857f-f15e257b3d89"
      },
      "source": [
        "fig = plt.figure(figsize=(12, 6))\n",
        "ax = fig.add_subplot(111)\n",
        "ax.plot(history['train']['val_accuracy'], color='b', label=\"Training accuracy\")\n",
        "ax.plot(history['valid']['val_accuracy'], color='r',label=\"Validation accuracy\")\n",
        "ax.set_xticks(np.arange(1, 30, 1))\n",
        "legend = plt.legend(loc='best', shadow=True)\n",
        "plt.tight_layout()\n",
        "plt.show()"
      ],
      "execution_count": 34,
      "outputs": [
        {
          "output_type": "display_data",
          "data": {
            "image/png": "[encoded data removed]",
            "text/plain": [
              "<Figure size 864x432 with 1 Axes>"
            ]
          },
          "metadata": {
            "tags": [],
            "needs_background": "light"
          }
        }
      ]
    },
    {
      "cell_type": "code",
      "metadata": {
        "id": "iYH_CKDV9JAY",
        "colab_type": "code",
        "colab": {
          "base_uri": "https://localhost:8080/",
          "height": 441
        },
        "outputId": "e8c175a6-08ee-43c4-b6ce-f806cf260509"
      },
      "source": [
        "fig = plt.figure(figsize=(12, 6))\n",
        "ax = fig.add_subplot(111)\n",
        "ax.plot(history['train']['val_loss'], color='b', label=\"Training accuracy\")\n",
        "ax.plot(history['valid']['val_loss'], color='r',label=\"Validation accuracy\")\n",
        "ax.set_xticks(np.arange(1, 30, 1))\n",
        "legend = plt.legend(loc='best', shadow=True)\n",
        "plt.tight_layout()\n",
        "plt.show()"
      ],
      "execution_count": 35,
      "outputs": [
        {
          "output_type": "display_data",
          "data": {
            "image/png": "[encoded data removed]",
            "text/plain": [
              "<Figure size 864x432 with 1 Axes>"
            ]
          },
          "metadata": {
            "tags": [],
            "needs_background": "light"
          }
        }
      ]
    },
    {
      "cell_type": "markdown",
      "metadata": {
        "id": "PUNkGQ7WBThR",
        "colab_type": "text"
      },
      "source": [
        "#Evaluation\n"
      ]
    },
    {
      "cell_type": "code",
      "metadata": {
        "id": "fD2Mkm_YvKhn",
        "colab_type": "code",
        "colab": {}
      },
      "source": [
        "def evaluation(fixRes_model):\n",
        "    equals = 0\n",
        "    i = 0\n",
        "    corrects = 0\n",
        "    with torch.no_grad():\n",
        "        for data, targets in dataloaders['test']:\n",
        "            data = data.to(device)\n",
        "            targets = targets.to(device)\n",
        "\n",
        "            outputs = fixRes_model(data)\n",
        "\n",
        "            outputs = torch.nn.functional.softmax(outputs, dim=1)\n",
        "\n",
        "            _, preds = torch.max(outputs, 1)\n",
        "\n",
        "            corrects += torch.sum(preds == targets)\n",
        "\n",
        "            if(not i % 20):\n",
        "                print(\"{}%\".format((i*100//(dataset_sizes[\"test\"]//batch_size))), end=\" => \")\n",
        "            i += 1\n",
        "        print(\"100%\")\n",
        "        print(\"Accuracy is : {}\".format(corrects.item()/dataset_sizes['test']))"
      ],
      "execution_count": 0,
      "outputs": []
    },
    {
      "cell_type": "code",
      "metadata": {
        "id": "R1xsl974vvYy",
        "colab_type": "code",
        "colab": {
          "base_uri": "https://localhost:8080/",
          "height": 53
        },
        "outputId": "492da210-5ded-48de-a1f9-b04f7dc459dc"
      },
      "source": [
        "evaluation(fixRes_model)"
      ],
      "execution_count": 30,
      "outputs": [
        {
          "output_type": "stream",
          "text": [
            "0% => 15% => 31% => 46% => 62% => 77% => 93% => 100%\n",
            "Accuracy is : 0.9473429951690822\n"
          ],
          "name": "stdout"
        }
      ]
    },
    {
      "cell_type": "markdown",
      "metadata": {
        "id": "D65PXcZKFJmW",
        "colab_type": "text"
      },
      "source": [
        "#Visualizing the model predictions"
      ]
    },
    {
      "cell_type": "code",
      "metadata": {
        "id": "QAU5CgeH5Ht7",
        "colab_type": "code",
        "colab": {}
      },
      "source": [
        "def imshow(inp, title=None):\n",
        "    \"\"\"Imshow for Tensor.\"\"\"\n",
        "    inp = inp.numpy().transpose((1, 2, 0))\n",
        "    mean = np.array([0.485, 0.456, 0.406])\n",
        "    std = np.array([0.229, 0.224, 0.225])\n",
        "    inp = std * inp + mean\n",
        "    inp = np.clip(inp, 0, 1)\n",
        "    plt.imshow(inp)\n",
        "    if title is not None:\n",
        "        plt.title(title)\n",
        "    plt.pause(0.001)  # pause a bit so that plots are updated"
      ],
      "execution_count": 0,
      "outputs": []
    },
    {
      "cell_type": "code",
      "metadata": {
        "id": "rGhU2-IgDfIY",
        "colab_type": "code",
        "colab": {}
      },
      "source": [
        "def visualize_model(model, num_images=6):\n",
        "    was_training = model.training\n",
        "    model.eval()\n",
        "    images_so_far = 0\n",
        "    fig = plt.figure()\n",
        "\n",
        "    with torch.no_grad():\n",
        "        for i, (inputs, labels) in enumerate(dataloaders['test']):\n",
        "            inputs = inputs.to(device)\n",
        "            labels = labels.to(device)\n",
        "\n",
        "            outputs = model(inputs)\n",
        "            _, preds = torch.max(outputs, 1)\n",
        "\n",
        "            for j in range(inputs.size()[0]):\n",
        "                images_so_far += 1\n",
        "                ax = plt.subplot(num_images//2, 2, images_so_far)\n",
        "                ax.axis('off')\n",
        "                ax.set_title('predicted: {}'.format(class_names[preds[j]]))\n",
        "                imshow(inputs.cpu().data[j])\n",
        "\n",
        "                if images_so_far == num_images:\n",
        "                    model.train(mode=was_training)\n",
        "                    return\n",
        "        model.train(mode=was_training)"
      ],
      "execution_count": 0,
      "outputs": []
    },
    {
      "cell_type": "code",
      "metadata": {
        "id": "TwDOHsqI404C",
        "colab_type": "code",
        "colab": {
          "base_uri": "https://localhost:8080/",
          "height": 581
        },
        "outputId": "748d1bdf-fd9b-4d54-a2c6-ef3a1384acaf"
      },
      "source": [
        "visualize_model(fixRes_model)"
      ],
      "execution_count": 33,
      "outputs": [
        {
          "output_type": "display_data",
          "data": {
            "image/png": "[encoded data removed]",
            "text/plain": [
              "<Figure size 432x288 with 1 Axes>"
            ]
          },
          "metadata": {
            "tags": [],
            "needs_background": "light"
          }
        },
        {
          "output_type": "display_data",
          "data": {
            "image/png": "[encoded data removed]",
            "text/plain": [
              "<Figure size 432x288 with 1 Axes>"
            ]
          },
          "metadata": {
            "tags": [],
            "needs_background": "light"
          }
        },
        {
          "output_type": "display_data",
          "data": {
            "image/png": "[encoded data removed]",
            "text/plain": [
              "<Figure size 432x288 with 1 Axes>"
            ]
          },
          "metadata": {
            "tags": [],
            "needs_background": "light"
          }
        },
        {
          "output_type": "display_data",
          "data": {
            "image/png": "[encoded data removed]",
            "text/plain": [
              "<Figure size 432x288 with 1 Axes>"
            ]
          },
          "metadata": {
            "tags": [],
            "needs_background": "light"
          }
        },
        {
          "output_type": "display_data",
          "data": {
            "image/png": "[encoded data removed]",
            "text/plain": [
              "<Figure size 432x288 with 1 Axes>"
            ]
          },
          "metadata": {
            "tags": [],
            "needs_background": "light"
          }
        },
        {
          "output_type": "display_data",
          "data": {
            "image/png": "[encoded data removed]",
            "text/plain": [
              "<Figure size 432x288 with 1 Axes>"
            ]
          },
          "metadata": {
            "tags": [],
            "needs_background": "light"
          }
        }
      ]
    }
  ]
}